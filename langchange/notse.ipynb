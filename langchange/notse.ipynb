{
 "cells": [
  {
   "cell_type": "markdown",
   "id": "e2858e07",
   "metadata": {},
   "source": [
    "9_3"
   ]
  }
 ],
 "metadata": {
  "language_info": {
   "name": "python"
  }
 },
 "nbformat": 4,
 "nbformat_minor": 5
}
