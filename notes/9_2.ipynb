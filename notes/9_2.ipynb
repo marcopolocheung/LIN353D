{
 "cells": [
  {
   "cell_type": "markdown",
   "id": "f47f8789",
   "metadata": {},
   "source": [
    "Verbalizer, v:\n",
    "\n",
    "x = \"the movie acting could be better...\"\n",
    "\n",
    "v = Review: [x], on a 1 to 4 star scale... --> LLM\n",
    "\n",
    "https://allenai.org/earth-system\n",
    "\n"
   ]
  },
  {
   "cell_type": "markdown",
   "id": "d079ecea",
   "metadata": {},
   "source": []
  }
 ],
 "metadata": {
  "language_info": {
   "name": "python"
  }
 },
 "nbformat": 4,
 "nbformat_minor": 5
}
