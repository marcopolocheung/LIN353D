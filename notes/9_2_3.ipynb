{
 "cells": [
  {
   "cell_type": "markdown",
   "id": "c1767924",
   "metadata": {},
   "source": [
    "9_2\n",
    "\n"
   ]
  },
  {
   "cell_type": "markdown",
   "id": "f47f8789",
   "metadata": {},
   "source": [
    "Verbalizer, v:\n",
    "\n",
    "x = \"the movie acting could be better...\"\n",
    "\n",
    "v = Review: [x], on a 1 to 4 star scale... --> LLM\n",
    "\n",
    "https://allenai.org/earth-system\n",
    "\n"
   ]
  },
  {
   "cell_type": "markdown",
   "id": "d079ecea",
   "metadata": {},
   "source": [
    "9_3"
   ]
  },
  {
   "cell_type": "markdown",
   "id": "39f6c909",
   "metadata": {},
   "source": []
  }
 ],
 "metadata": {
  "language_info": {
   "name": "python"
  }
 },
 "nbformat": 4,
 "nbformat_minor": 5
}
