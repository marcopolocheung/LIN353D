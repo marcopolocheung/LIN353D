{
 "cells": [
  {
   "cell_type": "markdown",
   "id": "c1767924",
   "metadata": {},
   "source": [
    "9_2\n",
    "\n"
   ]
  },
  {
   "cell_type": "markdown",
   "id": "f47f8789",
   "metadata": {},
   "source": [
    "Verbalizer, v:\n",
    "\n",
    "x = \"the movie acting could be better...\"\n",
    "\n",
    "v = Review: [x], on a 1 to 4 star scale... --> LLM\n",
    "\n",
    "https://allenai.org/earth-system\n",
    "\n"
   ]
  },
  {
   "cell_type": "markdown",
   "id": "d079ecea",
   "metadata": {},
   "source": [
    "9_3"
   ]
  },
  {
   "cell_type": "markdown",
   "id": "39f6c909",
   "metadata": {},
   "source": []
  },
  {
   "cell_type": "markdown",
   "id": "fcddf4b5",
   "metadata": {},
   "source": [
    "9_11"
   ]
  },
  {
   "cell_type": "markdown",
   "id": "4f21a2ed",
   "metadata": {},
   "source": [
    "BLEU - fails with ways to say the same thing in multiple ways\n",
    "BERTScore - embeddings/similarity score\n",
    "\n",
    "reference-free\n",
    "conditional generation == P(wk | w1...wk-1, Context) generation is made that does not contradict context\n",
    "\n",
    "https://github.com/google-research/bleurt\n",
    "\n",
    "Discourse:"
   ]
  },
  {
   "cell_type": "markdown",
   "id": "e8d45cb0",
   "metadata": {},
   "source": [
    "cohesion(\n",
    "    physically connects text [content words, connectives, transitions]\n",
    "    john seemed upset, I never knew HE cared (reference)\n",
    "    I need some clothes, as well or INSTEAD (substitution)\n",
    "    Would you like to hear another verse? I know 12 MORE! (ellipsis)\n",
    "    People used to dress for theater, NOW they wear anything (conjuction)\n",
    "    why does this BOY wiggle all the time, GIRLS dont wiggle (levical cohesion)\n",
    ")\n",
    "\n",
    "and coherence()\n",
    "\n",
    "rhetorical structure theory\n",
    "penn discourse treebank\n",
    "\n",
    "Universal dependencies, named entity recognition, coreference resolution (some examples what this can't do, machineTranslation[gender, polysemous words])\n",
    "\n",
    "discourse processing https://web.stanford.edu/~jurafsky/slp3/\n",
    "\n",
    "textTilling = https://aclanthology.org/J97-1003.pdf\n",
    "\n",
    "\n",
    "Epistemology in discourse (maybe related to nlg, but maybe more about llm thinking)\n",
    "\n",
    "shallow/deep discourse parsing ; opinion mining, QA, summarization\n",
    "\n",
    "\n",
    "discourse modelling:\n",
    "descriptive adequacy\n",
    "psychological plausibility"
   ]
  },
  {
   "cell_type": "markdown",
   "id": "cddebb7b",
   "metadata": {},
   "source": [
    "916"
   ]
  },
  {
   "cell_type": "markdown",
   "id": "a11c9899",
   "metadata": {},
   "source": [
    "Evidence; \"must\"\n",
    "\n",
    "elementary discourse units\n",
    "\n",
    "rst discourse treebank wsj\n",
    "gum-rst v10 many genres each genre few docs\n",
    "gentle-rst\n",
    "\n",
    "shift reduce parsing\n",
    "\n",
    "Lin wants to go because Beth knows Kim - this won't happen\n",
    "(Lin wants to go because Beth knows Kim -)( this won't happen)\n",
    "(Lin wants to go)( because Beth knows Kim - this won't happen)\n",
    "\n",
    "consituency parsin\n"
   ]
  }
 ],
 "metadata": {
  "language_info": {
   "name": "python"
  }
 },
 "nbformat": 4,
 "nbformat_minor": 5
}
